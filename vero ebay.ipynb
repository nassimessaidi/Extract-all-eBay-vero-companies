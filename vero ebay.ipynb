{
 "cells": [
  {
   "cell_type": "markdown",
   "id": "vocational-subject",
   "metadata": {},
   "source": [
    "<center><h1>Getting eBay Vero Companies</h1> </center>"
   ]
  },
  {
   "cell_type": "code",
   "execution_count": 1,
   "id": "local-playing",
   "metadata": {},
   "outputs": [],
   "source": [
    "import requests\n",
    "import os\n",
    "from bs4 import BeautifulSoup"
   ]
  },
  {
   "cell_type": "markdown",
   "id": "auburn-mainland",
   "metadata": {},
   "source": [
    "### eBay link for vero companies"
   ]
  },
  {
   "cell_type": "code",
   "execution_count": 2,
   "id": "descending-market",
   "metadata": {},
   "outputs": [],
   "source": [
    "URL = \"https://pages.ebay.com/seller-center/listing-and-marketing/verified-rights-owner-program.html#m17-1-tb3\""
   ]
  },
  {
   "cell_type": "markdown",
   "id": "fifty-organ",
   "metadata": {},
   "source": [
    "### Make a request to get html data and parse it using Beautifulsoup"
   ]
  },
  {
   "cell_type": "code",
   "execution_count": 3,
   "id": "documentary-sapphire",
   "metadata": {},
   "outputs": [],
   "source": [
    "res = requests.get(URL)\n",
    "soup = BeautifulSoup(res.content, \"html.parser\")"
   ]
  },
  {
   "cell_type": "markdown",
   "id": "offshore-employee",
   "metadata": {},
   "source": [
    "### Get all the a tag that contains the name of the companies"
   ]
  },
  {
   "cell_type": "markdown",
   "id": "otherwise-davis",
   "metadata": {},
   "source": [
    "You can know that class name by using the chrome developer tool and inspect for a single name.\n",
    "\n",
    "The output with be in a html tag "
   ]
  },
  {
   "cell_type": "code",
   "execution_count": 4,
   "id": "varying-recruitment",
   "metadata": {},
   "outputs": [],
   "source": [
    "vero_companies_html_tags = soup.find_all('a', attrs={'class': 'gaLnkTrk'})"
   ]
  },
  {
   "cell_type": "markdown",
   "id": "naval-sphere",
   "metadata": {},
   "source": [
    "### Get the text of that html tag"
   ]
  },
  {
   "cell_type": "code",
   "execution_count": 5,
   "id": "sufficient-shoot",
   "metadata": {},
   "outputs": [],
   "source": [
    "companies = [company.text for company in vero_companies_html_tags[42:-27]]"
   ]
  },
  {
   "cell_type": "markdown",
   "id": "variable-internet",
   "metadata": {},
   "source": [
    "### Save the output companies in a file called \"vero_companies.txt\""
   ]
  },
  {
   "cell_type": "code",
   "execution_count": 6,
   "id": "weekly-ordinance",
   "metadata": {
    "scrolled": true
   },
   "outputs": [],
   "source": [
    "filename = \"vero_companies.txt\"\n",
    "with open(filename, 'w') as f:\n",
    "    for company in companies:\n",
    "        f.write(company + '\\n')"
   ]
  },
  {
   "cell_type": "markdown",
   "id": "handled-ecuador",
   "metadata": {},
   "source": [
    "### Print some useful information about what we done"
   ]
  },
  {
   "cell_type": "code",
   "execution_count": 7,
   "id": "rising-measure",
   "metadata": {},
   "outputs": [
    {
     "name": "stdout",
     "output_type": "stream",
     "text": [
      "\n",
      "All 951 companies are saved uder: \n",
      "C:\\Users\\Maste\\GIT\\Python\\Notebook\\Vero ebay\\vero_companies.txt\n",
      "\n"
     ]
    }
   ],
   "source": [
    "companies_number = len(companies)\n",
    "current_directory = os.getcwd()\n",
    "\n",
    "file_directory = os.path.join(current_directory, filename)\n",
    "\n",
    "print(f'\\nAll {companies_number} companies are saved uder: \\n{file_directory}\\n')"
   ]
  }
 ],
 "metadata": {
  "kernelspec": {
   "display_name": "Python 3",
   "language": "python",
   "name": "python3"
  },
  "language_info": {
   "codemirror_mode": {
    "name": "ipython",
    "version": 3
   },
   "file_extension": ".py",
   "mimetype": "text/x-python",
   "name": "python",
   "nbconvert_exporter": "python",
   "pygments_lexer": "ipython3",
   "version": "3.8.5"
  }
 },
 "nbformat": 4,
 "nbformat_minor": 5
}
